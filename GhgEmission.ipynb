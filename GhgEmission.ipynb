{
  "nbformat": 4,
  "nbformat_minor": 0,
  "metadata": {
    "colab": {
      "name": "GhgEmission.ipynb",
      "provenance": [],
      "authorship_tag": "ABX9TyOlK5tDCH2qmMHGyNuEsaAZ",
      "include_colab_link": true
    },
    "kernelspec": {
      "name": "python3",
      "display_name": "Python 3"
    }
  },
  "cells": [
    {
      "cell_type": "markdown",
      "metadata": {
        "id": "view-in-github",
        "colab_type": "text"
      },
      "source": [
        "<a href=\"https://colab.research.google.com/github/Baazigar007/Green-House-Emmsion-CropLands/blob/master/GhgEmission.ipynb\" target=\"_parent\"><img src=\"https://colab.research.google.com/assets/colab-badge.svg\" alt=\"Open In Colab\"/></a>"
      ]
    },
    {
      "cell_type": "markdown",
      "metadata": {
        "id": "KvVlFOevIJBT",
        "colab_type": "text"
      },
      "source": [
        "#Greenhouse Gas Emissions on CropLands\n",
        "####Stabilizing greenhouse gas (GHG) emissions from croplands as agricultural demand grows is a critical component of climate change mitigation.\n",
        "\n",
        "\n",
        "##About the Dataset:\n",
        "####-> Here, we develop global crop-specific circa 2000 estimates of GHG emissions and GHG intensity in high spatial detail, reporting the effects of rice paddy management, peatland draining, and nitrogen (N) fertilizer on CH4, CO2, and N2O emissions\n"
      ]
    },
    {
      "cell_type": "markdown",
      "metadata": {
        "id": "wIUjJVEnDzhB",
        "colab_type": "text"
      },
      "source": [
        "##OVERVIEW\n",
        "####1.Rice Padding --> 46% of cropland Emmissions mainly CH4\n",
        "####2.N Fertilizers --> 21% of cropland Emissions mainly N2O\n",
        "####3.Peatland Draining --> 33% of cropland Emissions mainly CO2\n"
      ]
    },
    {
      "cell_type": "markdown",
      "metadata": {
        "id": "GTktgrPNAbmG",
        "colab_type": "text"
      },
      "source": [
        "##Research Paper Summary\n",
        "#### - The food system, including crop and livestock production is responsible for up to one third of total anthropogenic GHG emmsisions.\n",
        "#### - Top Ten crops account for 75% of GHG Emmissions. These crops are - Rice, Wheat, Maize, Barley, Coconut, Oil Palm, Soyabean, Potato, Rapeseed, SugarCane.\n",
        "#### - China, India and Indonesia contributes 51% of all emmissions.\n",
        "#### - Rice is a staple for almost half the global population, demand for rice is projected to increase substantially in coming years. Using spatially resolved irrigation, organic amendment, and crop calender data, Rice paddy flooding generates 92% of total rice emmissions.\n",
        "#### - India produces 22% of global rice and 27% of rice CH4 emmissions.\n",
        "#### - China produces 33.33% of global rica and 23% of rice CH4 emmssions. (due to mid season paddy drainage practices that reduces CH4 flux)\n",
        "#### - Vietnam's Mekong and Red River deltas produces 5% of global rice and 10% of global rice CH4 emmissions.\n"
      ]
    }
  ]
}
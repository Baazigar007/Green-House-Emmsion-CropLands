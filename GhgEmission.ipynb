{
  "nbformat": 4,
  "nbformat_minor": 0,
  "metadata": {
    "colab": {
      "name": "GhgEmission.ipynb",
      "provenance": [],
      "authorship_tag": "ABX9TyMPL2/qfpvxwKpsZ73EamMt",
      "include_colab_link": true
    },
    "kernelspec": {
      "name": "python3",
      "display_name": "Python 3"
    }
  },
  "cells": [
    {
      "cell_type": "markdown",
      "metadata": {
        "id": "view-in-github",
        "colab_type": "text"
      },
      "source": [
        "<a href=\"https://colab.research.google.com/github/Baazigar007/Green-House-Emmsion-CropLands/blob/master/GhgEmission.ipynb\" target=\"_parent\"><img src=\"https://colab.research.google.com/assets/colab-badge.svg\" alt=\"Open In Colab\"/></a>"
      ]
    },
    {
      "cell_type": "markdown",
      "metadata": {
        "id": "KvVlFOevIJBT",
        "colab_type": "text"
      },
      "source": [
        "#Greenhouse Gas Emissions on CropLands\n",
        "##General Info\n",
        "####1.Stabilizing greenhouse gas (GHG) emissions from croplands as agricultural demand grows is a critical component of climate change mitigation.\n",
        "####2.Here, we develop global crop-specific circa 2000 estimates of GHG emissions and GHG intensity in high spatial detail, reporting the effects of rice paddy management, peatland draining, and nitrogen (N) fertilizer on CH4, CO2, and N2O emissions.\n",
        "####3. Stabilizing GHG emmissions from croplands as agriculture demands grows is a critical component of climate change mitigation.\n",
        "\n",
        "\n",
        "##About the Dataset:\n",
        "####-> Here, we develop global crop-specific circa 2000 estimates of GHG emissions and GHG intensity in high spatial detail, reporting the effects of rice paddy management, peatland draining, and nitrogen (N) fertilizer on CH4, CO2, and N2O emissions\n"
      ]
    },
    {
      "cell_type": "markdown",
      "metadata": {
        "id": "wIUjJVEnDzhB",
        "colab_type": "text"
      },
      "source": [
        "##OVERVIEW\n",
        "###1.Rice Padding --> 46% of cropland Emmissions mainly CH4\n",
        "###2.N Fertilizers --> 21% of cropland Emissions mainly N2O\n",
        "###3.Peatland Draining --> 33% of cropland Emissions mainly CO2\n"
      ]
    },
    {
      "cell_type": "markdown",
      "metadata": {
        "id": "GTktgrPNAbmG",
        "colab_type": "text"
      },
      "source": [
        "##Research Paper Summary"
      ]
    }
  ]
}